{
 "cells": [
  {
   "cell_type": "code",
   "execution_count": 8,
   "metadata": {},
   "outputs": [],
   "source": [
    "import pandas as pd\n",
    "import os\n",
    "import sys\n",
    "from supermarket_simulation import construct_freq_df, generate_markov_matrix"
   ]
  },
  {
   "cell_type": "markdown",
   "metadata": {},
   "source": [
    "### Get the Raw Data"
   ]
  },
  {
   "cell_type": "code",
   "execution_count": 2,
   "metadata": {},
   "outputs": [],
   "source": [
    "# Inserting the root folder to current path so that we can access data folder and the libraryof4\n",
    "sys.path.insert(0, '../')"
   ]
  },
  {
   "cell_type": "code",
   "execution_count": 3,
   "metadata": {},
   "outputs": [],
   "source": [
    "days = ['monday','tuesday','wednesday','thursday','friday']"
   ]
  },
  {
   "cell_type": "code",
   "execution_count": 4,
   "metadata": {},
   "outputs": [],
   "source": [
    "DATA_PATH = './data/'"
   ]
  },
  {
   "cell_type": "code",
   "execution_count": 5,
   "metadata": {},
   "outputs": [],
   "source": [
    "#collect raw data to a dictionary of dataframes, e.g. df_monday <== monday.csv \n",
    "frames = {}\n",
    "for day in days:\n",
    "    frames[f'df_{day}'] = pd.read_csv(f'{DATA_PATH}{day}.csv',dtype={'timestamp':str}, sep=';')\n",
    "    #locals()[f'df_{day}'] = pd.read_csv(f'{DATA_PATH}{day}.csv',dtype={'timestamp':str}, sep=';')"
   ]
  },
  {
   "cell_type": "markdown",
   "metadata": {},
   "source": [
    "### Construct Frequency Frames\n",
    "\n",
    "This one takes a bit of time to run ~seconds"
   ]
  },
  {
   "cell_type": "code",
   "execution_count": 6,
   "metadata": {},
   "outputs": [],
   "source": [
    "#construct frequency frames and store in a dictionary with the similar naming convention ff_monday <== monday_freqs, ff_week <== whole week\n",
    "freq_frames = {}\n",
    "ff_week = pd.DataFrame()\n",
    "\n",
    "for day in days:\n",
    "    \n",
    "    freq_frames[f'ff_{day}'] = construct_freq_df(frames[f'df_{day}'])\n",
    "    \n",
    "    #also create a complete table for the whole week\n",
    "    #POTENTIAL BUG: concat should be mathematically sound for  matrix calculation, but might need a retest \n",
    "    ff_week = pd.concat([ff_week,freq_frames[f'ff_{day}']])\n"
   ]
  },
  {
   "cell_type": "code",
   "execution_count": 24,
   "metadata": {},
   "outputs": [],
   "source": [
    "freq_frames;"
   ]
  },
  {
   "cell_type": "markdown",
   "metadata": {},
   "source": [
    "### Construct Markov Matrices\n",
    "\n",
    "Transition Probabilities are from Column -> Row, column sum should add to 1"
   ]
  },
  {
   "cell_type": "code",
   "execution_count": 13,
   "metadata": {},
   "outputs": [],
   "source": [
    "# Calculate the Markov Transition matrices for each day and store in a dictionary, similar naming convention mm_monday <== monday_markov_matrix, mm_week <== whole week\n",
    "markov_frames = {}\n",
    "for day in days:\n",
    "    markov_frames[f'mm_{day}'] = generate_markov_matrix(freq_frames[f'ff_{day}']) \n",
    "# Generate and add the weekly markov matrix here \n",
    "mm_week = generate_markov_matrix(ff_week)   \n",
    "markov_frames['mm_week'] = mm_week"
   ]
  },
  {
   "cell_type": "code",
   "execution_count": 14,
   "metadata": {},
   "outputs": [],
   "source": [
    "markov_frames;"
   ]
  },
  {
   "cell_type": "markdown",
   "metadata": {},
   "source": [
    "### Write out the Markov Matrices as csv for re-use"
   ]
  },
  {
   "cell_type": "code",
   "execution_count": 22,
   "metadata": {},
   "outputs": [],
   "source": [
    "#Finally write the matrices out to data folder\n",
    "for key, value in markov_frames.items():\n",
    "    value.to_csv(f'{DATA_PATH}{key}.csv')"
   ]
  },
  {
   "cell_type": "code",
   "execution_count": 21,
   "metadata": {},
   "outputs": [],
   "source": []
  }
 ],
 "metadata": {
  "kernelspec": {
   "display_name": "Python 3",
   "language": "python",
   "name": "python3"
  },
  "language_info": {
   "codemirror_mode": {
    "name": "ipython",
    "version": 3
   },
   "file_extension": ".py",
   "mimetype": "text/x-python",
   "name": "python",
   "nbconvert_exporter": "python",
   "pygments_lexer": "ipython3",
   "version": "3.8.5"
  }
 },
 "nbformat": 4,
 "nbformat_minor": 4
}
